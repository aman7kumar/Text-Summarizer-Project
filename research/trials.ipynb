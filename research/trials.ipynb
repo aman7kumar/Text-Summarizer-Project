{
 "cells": [
  {
   "cell_type": "code",
   "execution_count": 2,
   "metadata": {},
   "outputs": [
    {
     "name": "stdout",
     "output_type": "stream",
     "text": [
      "[2025-04-01 19:37:42,821: INFO: __init__: Logger is successfully configured!]\n",
      "[2025-04-01 19:37:42,824: INFO: 3201425399: Welcome to our custom logging]\n"
     ]
    }
   ],
   "source": [
    "import sys\n",
    "import os\n",
    "\n",
    "# Dynamically add \"src\" directory to Python's search path\n",
    "#sys.path.append(os.path.abspath(os.path.join(os.path.dirname(__file__), \"src\")))\n",
    "\n",
    "# Now import logging from textSummarizer\n",
    "from textSummarizer.logging import logger\n",
    "\n",
    "logger.info(\"Welcome to our custom logging\")\n"
   ]
  }
 ],
 "metadata": {
  "kernelspec": {
   "display_name": "textS",
   "language": "python",
   "name": "python3"
  },
  "language_info": {
   "codemirror_mode": {
    "name": "ipython",
    "version": 3
   },
   "file_extension": ".py",
   "mimetype": "text/x-python",
   "name": "python",
   "nbconvert_exporter": "python",
   "pygments_lexer": "ipython3",
   "version": "3.8.20"
  }
 },
 "nbformat": 4,
 "nbformat_minor": 2
}
